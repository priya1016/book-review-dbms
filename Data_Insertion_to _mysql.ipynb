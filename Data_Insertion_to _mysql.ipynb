{
 "cells": [
  {
   "cell_type": "code",
   "execution_count": 1,
   "id": "3ad324b7",
   "metadata": {},
   "outputs": [],
   "source": [
    "#****************************************************************************************#\n",
    "# Program name      : Data Insertion to SQL                                              #\n",
    "# Project           : Online Book Review System                                          #\n",
    "# Description       : IDMP_Project                                                       #\n",
    "# Produced by       : APOORVA GUPTA AND PRIYA GARG                                       #\n",
    "# Date              : 12/11/2021                                                         #\n",
    "#****************************************************************************************#"
   ]
  },
  {
   "cell_type": "code",
   "execution_count": 2,
   "id": "f667e74d",
   "metadata": {},
   "outputs": [],
   "source": [
    "# import libraries\n",
    "import pandas as pd \n",
    "import numpy as np\n",
    "\n",
    "from mysql.connector import connect, Error\n",
    "from getpass import getpass"
   ]
  },
  {
   "cell_type": "code",
   "execution_count": 23,
   "id": "b37e47ac",
   "metadata": {},
   "outputs": [
    {
     "name": "stdout",
     "output_type": "stream",
     "text": [
      "Enter username: root\n",
      "Enter password: ········\n"
     ]
    }
   ],
   "source": [
    "# connect to mysql\n",
    "try:\n",
    "    conn=connect(\n",
    "        host='localhost',\n",
    "        port=3306,\n",
    "        user=input('Enter username: '),\n",
    "        password=getpass('Enter password: '),\n",
    "        auth_plugin='mysql_native_password',\n",
    "        database='goodreads'\n",
    "        )\n",
    "except Error as e:\n",
    "    print(e)"
   ]
  },
  {
   "cell_type": "code",
   "execution_count": 11,
   "id": "8e26d489",
   "metadata": {},
   "outputs": [],
   "source": [
    "books_df = pd.read_csv(\"../data/database_insert_data/books.csv\")\n",
    "users_df = pd.read_csv(\"../data/database_insert_data/reader.csv\")\n",
    "reviews_df = pd.read_csv(\"../data/database_insert_data/reviews.csv\")\n",
    "publish_details = pd.read_csv(\"../data/database_insert_data/publish data.csv\")\n",
    "reading = pd.read_csv(\"../data/database_insert_data/reading.csv\")\n",
    "wants_to_read = pd.read_csv(\"../data/database_insert_data/wants_to_read.csv\")\n",
    "\n",
    "reviews_df['date'] = pd.to_datetime(reviews_df['date'])"
   ]
  },
  {
   "cell_type": "code",
   "execution_count": null,
   "id": "d99ba8eb",
   "metadata": {},
   "outputs": [],
   "source": [
    "# INSERTING BOOKS ##\n",
    "\n",
    "book_insert_query = \"\"\"\n",
    "                insert into books\n",
    "                values (%s, %s, %s,%s, %s, %s)\n",
    "                \"\"\"\n",
    "\n",
    "for i in range(len(books_df)):\n",
    "    \n",
    "\n",
    "    val_tuple = (books_df['book_title'][i],str(books_df['book_id'][i]),int(books_df['no_of_reviews'][i]),\n",
    "                     int(books_df['no_of_pages'][i]),books_df['author_name'][i],books_df['genre'][i])\n",
    "\n",
    "    with conn.cursor() as cursor:\n",
    "\n",
    "        cursor.execute(book_insert_query,val_tuple)\n",
    "        conn.commit()"
   ]
  },
  {
   "cell_type": "code",
   "execution_count": null,
   "id": "86e6c2fe",
   "metadata": {},
   "outputs": [],
   "source": [
    "# INSERTING USERS ##\n",
    "\n",
    "user_insert_query = \"\"\"\n",
    "                insert into reader\n",
    "                values (%s, %s, %s,%s)\n",
    "                \"\"\"\n",
    "\n",
    "for i in range(len(users_df)):\n",
    "    \n",
    "\n",
    "    val_tuple = (users_df['username'][i],str(users_df['password'][i]),users_df['email_id'][i],\n",
    "                     users_df['dob'][i])\n",
    "\n",
    "    with conn.cursor() as cursor:\n",
    "\n",
    "        cursor.execute(user_insert_query,val_tuple)\n",
    "        conn.commit()"
   ]
  },
  {
   "cell_type": "code",
   "execution_count": null,
   "id": "19212717",
   "metadata": {},
   "outputs": [],
   "source": [
    "## INSERTING REVIEWS ##\n",
    "\n",
    "review_insert_query = \"\"\"\n",
    "                insert into review\n",
    "                values (%s, %s, %s,%s, %s, %s, %s, %s)\n",
    "                \"\"\"\n",
    "\n",
    "for i in range(len(reviews_df)):\n",
    "    \n",
    "    query_for_max_reviewID = \"\"\"\n",
    "                            select max(review_id) from review\n",
    "                        \"\"\"\n",
    "    \n",
    "    with conn.cursor() as cursor:\n",
    "\n",
    "        cursor.execute(query_for_max_reviewID)\n",
    "        local_result = cursor.fetchall()\n",
    "        for row in local_result:\n",
    "            max_val = row\n",
    "    \n",
    "    max_val = list(max_val)\n",
    "    if max_val[0] == None:\n",
    "        max_val[0] = 0\n",
    "        \n",
    "#     print(type(max_val))\n",
    "#     print(max_val[0])\n",
    "    new_review_id = max_val[0]+1\n",
    "    \n",
    "    val_tuple = (new_review_id, reviews_df['date'][i].date(),reviews_df['text'][i], reviews_df['recommended'][i],\n",
    "                         int(reviews_df['rating'][i]),int(reviews_df['no_of_likes'][i]) , \n",
    "                             reviews_df['user_name'][i], str(reviews_df['book_id'][i]))\n",
    "                \n",
    "\n",
    "    with conn.cursor() as cursor:\n",
    "\n",
    "        cursor.execute(review_insert_query,val_tuple)\n",
    "        conn.commit()"
   ]
  },
  {
   "cell_type": "code",
   "execution_count": 46,
   "id": "14b1dd62",
   "metadata": {},
   "outputs": [],
   "source": [
    "## INSERTING wants_to_read ##\n",
    "\n",
    "wantsToRead_insert_query = \"\"\"\n",
    "                insert into wants_to_read\n",
    "                values (%s, %s)\n",
    "                \"\"\"\n",
    "\n",
    "for i in range(len(wants_to_read)):\n",
    "    \n",
    "\n",
    "    val_tuple = (wants_to_read['username'][i], str(wants_to_read['book_id'][i]))\n",
    "                \n",
    "\n",
    "    with conn.cursor() as cursor:\n",
    "\n",
    "        cursor.execute(wantsToRead_insert_query,val_tuple)\n",
    "        conn.commit()"
   ]
  },
  {
   "cell_type": "code",
   "execution_count": 47,
   "id": "faf7e6cc",
   "metadata": {},
   "outputs": [],
   "source": [
    "## INSERTING READING ##\n",
    "\n",
    "reading_insert_query = \"\"\"\n",
    "                insert into Reading\n",
    "                values (%s, %s, %s)\n",
    "                \"\"\"\n",
    "\n",
    "for i in range(len(reading)):\n",
    "    \n",
    "\n",
    "    val_tuple = (reading['username'][i], str(reading['book_id'][i]), int(reading['available_no_of_reviews'][i]))\n",
    "                \n",
    "\n",
    "    with conn.cursor() as cursor:\n",
    "\n",
    "        cursor.execute(reading_insert_query,val_tuple)\n",
    "        conn.commit()"
   ]
  },
  {
   "cell_type": "code",
   "execution_count": 39,
   "id": "a37fb918",
   "metadata": {},
   "outputs": [],
   "source": [
    "## INSERTING publish details ##\n",
    "\n",
    "publish_insert_query = \"\"\"\n",
    "                insert into Books_Publisher_name\n",
    "                values (%s, %s)\n",
    "                \"\"\"\n",
    "\n",
    "for i in range(len(publish_details)):\n",
    "    \n",
    "\n",
    "    val_tuple = (publish_details['publisher_name'][i], str(publish_details['book_id'][i]))\n",
    "                \n",
    "\n",
    "    with conn.cursor() as cursor:\n",
    "\n",
    "        cursor.execute(publish_insert_query,val_tuple)\n",
    "        conn.commit()"
   ]
  },
  {
   "cell_type": "code",
   "execution_count": null,
   "id": "a7da8585",
   "metadata": {},
   "outputs": [],
   "source": []
  }
 ],
 "metadata": {
  "kernelspec": {
   "display_name": "Python 3 (ipykernel)",
   "language": "python",
   "name": "python3"
  },
  "language_info": {
   "codemirror_mode": {
    "name": "ipython",
    "version": 3
   },
   "file_extension": ".py",
   "mimetype": "text/x-python",
   "name": "python",
   "nbconvert_exporter": "python",
   "pygments_lexer": "ipython3",
   "version": "3.9.7"
  }
 },
 "nbformat": 4,
 "nbformat_minor": 5
}
