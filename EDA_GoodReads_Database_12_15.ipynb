{
 "cells": [
  {
   "cell_type": "code",
   "execution_count": 1,
   "id": "8dd2a517",
   "metadata": {},
   "outputs": [
    {
     "name": "stderr",
     "output_type": "stream",
     "text": [
      "C:\\Users\\apoor\\AppData\\Local\\Temp/ipykernel_33020/3882843637.py:6: UserWarning: \n",
      "The dash_table package is deprecated. Please replace\n",
      "`import dash_table` with `from dash import dash_table`\n",
      "\n",
      "Also, if you're using any of the table format helpers (e.g. Group), replace \n",
      "`from dash_table.Format import Group` with \n",
      "`from dash.dash_table.Format import Group`\n",
      "  import dash_table\n",
      "C:\\Users\\apoor\\AppData\\Local\\Temp/ipykernel_33020/3882843637.py:7: UserWarning: \n",
      "The dash_core_components package is deprecated. Please replace\n",
      "`import dash_core_components as dcc` with `from dash import dcc`\n",
      "  import dash_core_components as dcc\n",
      "C:\\Users\\apoor\\AppData\\Local\\Temp/ipykernel_33020/3882843637.py:8: UserWarning: \n",
      "The dash_html_components package is deprecated. Please replace\n",
      "`import dash_html_components as html` with `from dash import html`\n",
      "  import dash_html_components as html\n"
     ]
    }
   ],
   "source": [
    "#importing all required libraries\n",
    "import pandas as pd\n",
    "import dash\n",
    "import plotly.express as px\n",
    "import dash\n",
    "import dash_table\n",
    "import dash_core_components as dcc\n",
    "import dash_html_components as html\n",
    "\n",
    "#creating dash app\n",
    "app = dash.Dash(__name__)"
   ]
  },
  {
   "cell_type": "code",
   "execution_count": 2,
   "id": "5ebed7c3",
   "metadata": {},
   "outputs": [],
   "source": [
    "#loading dataset by providing directory of the excel file\n",
    "all_books=pd.read_csv(\"C:/Users/apoor/Desktop/Apoorva/Sem 1/IDMP/Final Project/best_crime_and_mystery_books.csv\")"
   ]
  },
  {
   "cell_type": "code",
   "execution_count": 3,
   "id": "ca89f214",
   "metadata": {
    "scrolled": true
   },
   "outputs": [
    {
     "name": "stdout",
     "output_type": "stream",
     "text": [
      "2598\n"
     ]
    }
   ],
   "source": [
    "#to check no of unique books in the data\n",
    "print(all_books.book_author.nunique())\n",
    "#2598 unique books"
   ]
  },
  {
   "cell_type": "code",
   "execution_count": 4,
   "id": "debb2e0e",
   "metadata": {},
   "outputs": [],
   "source": [
    "########################creating graphs ###################################\n",
    "\n",
    "#correlation graph of attributes of the books\n",
    "fig12= px.imshow(all_books.corr())\n",
    "\n",
    "#distribution graph of average rating\n",
    "fig13=px.histogram(all_books, x = \"average_rating\", y = \"id\",marginal = \"box\" )\n",
    "\n",
    "#Top 10 authors with largely written books\n",
    "new_df = all_books.groupby('book_author')['id'].count().reset_index().sort_values(by='id',ascending=False).head(10)\n",
    "fig11=px.bar(new_df, x=\"book_author\", y=\"id\", barmode=\"group\" )\n",
    "\n",
    "#Top 10 years having largely published books\n",
    "new_df_year = all_books.groupby('publication_year')['id'].count().reset_index().sort_values(by='id',ascending=False).head(10)\n",
    "fig14=px.bar(new_df_year, x=\"publication_year\", y=\"id\", barmode=\"group\")\n",
    "\n",
    "#Top 10 largely reviewed books\n",
    "new_df_book = all_books.sort_values(by='ratings_count',ascending=False).head(10).set_index('title')\n",
    "fig15=px.bar(new_df_book, new_df_book[\"ratings_count\"],new_df_book.index, barmode=\"group\")\n",
    "\n",
    "#Top 10 higly reviewed publishers\n",
    "new_df_books=all_books.drop(all_books[(all_books.num_pages>25000)].index)\n",
    "new_df_rating = new_df_books.groupby('publisher')['ratings_count'].sum().reset_index().sort_values(by='ratings_count',ascending=False).head(10)\n",
    "fig16=px.bar(new_df_rating, x=\"publisher\", y=\"ratings_count\", barmode=\"group\")\n",
    "\n",
    "#Distribution of average rating with number of pages of book\n",
    "fig17 = px.scatter(new_df_books, x=\"num_pages\", y=\"average_rating\")\n",
    "\n",
    "#Distribution of ratings count with number of pages of book\n",
    "fig18 = px.scatter(new_df_books, x=\"num_pages\", y=\"ratings_count\")"
   ]
  },
  {
   "cell_type": "code",
   "execution_count": 5,
   "id": "fb9e8353",
   "metadata": {},
   "outputs": [],
   "source": [
    "#allocating graphs to dcc graph variables\n",
    "graph1=dcc.Graph(\n",
    "    id = 'bubble',\n",
    "    figure = fig11\n",
    "  )\n",
    "graph2=dcc.Graph(\n",
    "    id = 'pie',\n",
    "    figure = fig12\n",
    ")\n",
    "graph3=dcc.Graph(\n",
    "    id = 'hist',\n",
    "    figure = fig13\n",
    "  )\n",
    "graph4=dcc.Graph(\n",
    "    id = 'scatter',\n",
    "    figure = fig14\n",
    "  )\n",
    "graph5=dcc.Graph(\n",
    "    id = 'ano',\n",
    "    figure = fig15\n",
    "  )\n",
    "graph6=dcc.Graph(\n",
    "    id = 'aaa',\n",
    "    figure = fig16\n",
    "  )\n",
    "graph7=dcc.Graph(\n",
    "    id = 'aaab',\n",
    "    figure = fig17\n",
    "  )\n",
    "graph8=dcc.Graph(\n",
    "    id = 'mmm',\n",
    "    figure = fig18\n",
    "  )"
   ]
  },
  {
   "cell_type": "code",
   "execution_count": 6,
   "id": "0c7cabd6",
   "metadata": {},
   "outputs": [],
   "source": [
    "#writing insights and headings in the dash layout\n",
    "\n",
    "header = html.H1(\"Exploratory Data Analysis of Online Book Review System\")\n",
    "\n",
    "view1=html.H2(\"Correlation matrix\")\n",
    "view2=\"Average rating is not correlated with any other attributes of the book\"\n",
    "\n",
    "view3=html.H2(\"Average rating distribution\")\n",
    "view4=\"Average ratings are normally distributed with mean=3.94 and standard deviation=0.37\"\n",
    "\n",
    "view5=html.H2(\"Top 10 authors with largely written books\")\n",
    "view6=\"Agatha Christie has written maximum books i.e 93, following James Patterson with 36 number of books\"\n",
    "\n",
    "view7=html.H2(\"Top 10 years having largely published books\")\n",
    "view8=\"Maximum number of books have been published during 2011-2013\"\n",
    "\n",
    "view9=html.H2(\"Top 10 largely reviewed books\")\n",
    "view10=\"The Hunger Games has 5.8 million reviews, whereas Harry Potter and the Sorcerer's Stone has 6.2 million.\"\n",
    "\n",
    "view11=html.H2(\"Top 10 higly reviewed publishers\")\n",
    "view12=\"The publisher Penguin Books has the most book reviews\"\n",
    "\n",
    "view13=html.H2(\"Distribution of average rating with number of pages of book\")\n",
    "view14=\"People tend to give higher ratings to books with more pages\"\n",
    "\n",
    "view15=html.H2(\"Distribution of ratings count with number of pages of book\")\n",
    "view16=\"People submit less reviews as the number of pages in a book increases\"\n",
    "\n",
    "#passing the graphs and views in html layout\n",
    "layout = html.Div(children=[header,view1,view2,graph2,\n",
    "                            view3,view4,graph3,\n",
    "                            view5,view6,graph1,\n",
    "                            view7,view8,graph4,\n",
    "                            view9,view10,graph5,\n",
    "                            view11,view12,graph6,\n",
    "                            view13,view14,graph7,\n",
    "                            view15,view16,graph8], style={\"text-align\": \"center\", \"justifyContent\":\"center\"})\n",
    "\n",
    "# Setting App Layout\n",
    "app.layout = layout"
   ]
  },
  {
   "cell_type": "code",
   "execution_count": 7,
   "id": "caf32e8e",
   "metadata": {
    "scrolled": true
   },
   "outputs": [
    {
     "name": "stdout",
     "output_type": "stream",
     "text": [
      "Dash is running on http://127.0.0.1:8050/\n",
      "\n",
      " * Serving Flask app \"__main__\" (lazy loading)\n",
      " * Environment: production\n",
      "\u001b[31m   WARNING: This is a development server. Do not use it in a production deployment.\u001b[0m\n",
      "\u001b[2m   Use a production WSGI server instead.\u001b[0m\n",
      " * Debug mode: off\n"
     ]
    },
    {
     "name": "stderr",
     "output_type": "stream",
     "text": [
      " * Running on http://127.0.0.1:8050/ (Press CTRL+C to quit)\n",
      "127.0.0.1 - - [13/Dec/2021 18:40:48] \"GET / HTTP/1.1\" 200 -\n",
      "127.0.0.1 - - [13/Dec/2021 18:40:48] \"GET /_dash-layout HTTP/1.1\" 200 -\n",
      "127.0.0.1 - - [13/Dec/2021 18:40:48] \"GET /_dash-dependencies HTTP/1.1\" 200 -\n",
      "127.0.0.1 - - [13/Dec/2021 18:40:48] \"GET /_dash-component-suites/dash/dcc/async-graph.js HTTP/1.1\" 200 -\n",
      "127.0.0.1 - - [13/Dec/2021 18:40:48] \"GET /_dash-component-suites/dash/dcc/async-plotlyjs.js HTTP/1.1\" 200 -\n"
     ]
    }
   ],
   "source": [
    "################## Running app ##########################\n",
    "if __name__ == '__main__':\n",
    "  app.run_server()\n",
    "\n",
    "#open the link after running this cell"
   ]
  }
 ],
 "metadata": {
  "kernelspec": {
   "display_name": "Python 3 (ipykernel)",
   "language": "python",
   "name": "python3"
  },
  "language_info": {
   "codemirror_mode": {
    "name": "ipython",
    "version": 3
   },
   "file_extension": ".py",
   "mimetype": "text/x-python",
   "name": "python",
   "nbconvert_exporter": "python",
   "pygments_lexer": "ipython3",
   "version": "3.8.12"
  }
 },
 "nbformat": 4,
 "nbformat_minor": 5
}
